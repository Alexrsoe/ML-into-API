{
 "cells": [
  {
   "cell_type": "code",
   "execution_count": 18,
   "metadata": {},
   "outputs": [
    {
     "data": {
      "text/html": [
       "<div>\n",
       "<style scoped>\n",
       "    .dataframe tbody tr th:only-of-type {\n",
       "        vertical-align: middle;\n",
       "    }\n",
       "\n",
       "    .dataframe tbody tr th {\n",
       "        vertical-align: top;\n",
       "    }\n",
       "\n",
       "    .dataframe thead th {\n",
       "        text-align: right;\n",
       "    }\n",
       "</style>\n",
       "<table border=\"1\" class=\"dataframe\">\n",
       "  <thead>\n",
       "    <tr style=\"text-align: right;\">\n",
       "      <th></th>\n",
       "      <th>label</th>\n",
       "      <th>approx_payout_date</th>\n",
       "      <th>body_length</th>\n",
       "      <th>channels</th>\n",
       "      <th>delivery_method</th>\n",
       "      <th>event_created</th>\n",
       "      <th>event_end</th>\n",
       "      <th>event_published</th>\n",
       "      <th>event_start</th>\n",
       "      <th>fb_published</th>\n",
       "      <th>...</th>\n",
       "      <th>org_facebook</th>\n",
       "      <th>org_twitter</th>\n",
       "      <th>sale_duration</th>\n",
       "      <th>sale_duration2</th>\n",
       "      <th>show_map</th>\n",
       "      <th>user_age</th>\n",
       "      <th>user_created</th>\n",
       "      <th>user_type</th>\n",
       "      <th>venue_latitude</th>\n",
       "      <th>venue_longitude</th>\n",
       "    </tr>\n",
       "  </thead>\n",
       "  <tbody>\n",
       "    <tr>\n",
       "      <th>count</th>\n",
       "      <td>9566.000000</td>\n",
       "      <td>9.566000e+03</td>\n",
       "      <td>9566.000000</td>\n",
       "      <td>9566.000000</td>\n",
       "      <td>9557.000000</td>\n",
       "      <td>9.566000e+03</td>\n",
       "      <td>9.566000e+03</td>\n",
       "      <td>9.497000e+03</td>\n",
       "      <td>9.566000e+03</td>\n",
       "      <td>9566.000000</td>\n",
       "      <td>...</td>\n",
       "      <td>9524.000000</td>\n",
       "      <td>9524.000000</td>\n",
       "      <td>9459.000000</td>\n",
       "      <td>9566.000000</td>\n",
       "      <td>9566.000000</td>\n",
       "      <td>9566.000000</td>\n",
       "      <td>9.566000e+03</td>\n",
       "      <td>9566.000000</td>\n",
       "      <td>8852.000000</td>\n",
       "      <td>8852.000000</td>\n",
       "    </tr>\n",
       "    <tr>\n",
       "      <th>mean</th>\n",
       "      <td>0.092724</td>\n",
       "      <td>1.350865e+09</td>\n",
       "      <td>3632.099101</td>\n",
       "      <td>6.175413</td>\n",
       "      <td>0.435702</td>\n",
       "      <td>1.345710e+09</td>\n",
       "      <td>1.350433e+09</td>\n",
       "      <td>1.340641e+09</td>\n",
       "      <td>1.350126e+09</td>\n",
       "      <td>0.123667</td>\n",
       "      <td>...</td>\n",
       "      <td>8.011340</td>\n",
       "      <td>4.325598</td>\n",
       "      <td>47.275082</td>\n",
       "      <td>50.986828</td>\n",
       "      <td>0.842777</td>\n",
       "      <td>368.516830</td>\n",
       "      <td>1.313870e+09</td>\n",
       "      <td>2.704265</td>\n",
       "      <td>34.981910</td>\n",
       "      <td>-58.524374</td>\n",
       "    </tr>\n",
       "    <tr>\n",
       "      <th>std</th>\n",
       "      <td>0.290061</td>\n",
       "      <td>2.406468e+07</td>\n",
       "      <td>5743.574469</td>\n",
       "      <td>3.871291</td>\n",
       "      <td>0.587983</td>\n",
       "      <td>2.404852e+07</td>\n",
       "      <td>2.406468e+07</td>\n",
       "      <td>8.820041e+07</td>\n",
       "      <td>2.399002e+07</td>\n",
       "      <td>0.329219</td>\n",
       "      <td>...</td>\n",
       "      <td>11.864087</td>\n",
       "      <td>6.025405</td>\n",
       "      <td>53.181035</td>\n",
       "      <td>58.027931</td>\n",
       "      <td>0.364030</td>\n",
       "      <td>414.431232</td>\n",
       "      <td>4.117064e+07</td>\n",
       "      <td>1.498435</td>\n",
       "      <td>20.625691</td>\n",
       "      <td>67.612621</td>\n",
       "    </tr>\n",
       "    <tr>\n",
       "      <th>min</th>\n",
       "      <td>0.000000</td>\n",
       "      <td>1.173672e+09</td>\n",
       "      <td>0.000000</td>\n",
       "      <td>0.000000</td>\n",
       "      <td>0.000000</td>\n",
       "      <td>1.171223e+09</td>\n",
       "      <td>1.173244e+09</td>\n",
       "      <td>0.000000e+00</td>\n",
       "      <td>1.173238e+09</td>\n",
       "      <td>0.000000</td>\n",
       "      <td>...</td>\n",
       "      <td>0.000000</td>\n",
       "      <td>0.000000</td>\n",
       "      <td>-143.000000</td>\n",
       "      <td>-28.000000</td>\n",
       "      <td>0.000000</td>\n",
       "      <td>0.000000</td>\n",
       "      <td>1.014390e+09</td>\n",
       "      <td>1.000000</td>\n",
       "      <td>-45.045208</td>\n",
       "      <td>-159.390183</td>\n",
       "    </tr>\n",
       "    <tr>\n",
       "      <th>25%</th>\n",
       "      <td>0.000000</td>\n",
       "      <td>1.334016e+09</td>\n",
       "      <td>737.250000</td>\n",
       "      <td>5.000000</td>\n",
       "      <td>0.000000</td>\n",
       "      <td>1.329428e+09</td>\n",
       "      <td>1.333584e+09</td>\n",
       "      <td>1.329324e+09</td>\n",
       "      <td>1.333219e+09</td>\n",
       "      <td>0.000000</td>\n",
       "      <td>...</td>\n",
       "      <td>0.000000</td>\n",
       "      <td>0.000000</td>\n",
       "      <td>16.000000</td>\n",
       "      <td>17.000000</td>\n",
       "      <td>1.000000</td>\n",
       "      <td>12.000000</td>\n",
       "      <td>1.287562e+09</td>\n",
       "      <td>1.000000</td>\n",
       "      <td>33.912730</td>\n",
       "      <td>-96.852044</td>\n",
       "    </tr>\n",
       "    <tr>\n",
       "      <th>50%</th>\n",
       "      <td>0.000000</td>\n",
       "      <td>1.355465e+09</td>\n",
       "      <td>1968.000000</td>\n",
       "      <td>6.000000</td>\n",
       "      <td>0.000000</td>\n",
       "      <td>1.350775e+09</td>\n",
       "      <td>1.355033e+09</td>\n",
       "      <td>1.350929e+09</td>\n",
       "      <td>1.354812e+09</td>\n",
       "      <td>0.000000</td>\n",
       "      <td>...</td>\n",
       "      <td>0.000000</td>\n",
       "      <td>0.000000</td>\n",
       "      <td>33.000000</td>\n",
       "      <td>35.000000</td>\n",
       "      <td>1.000000</td>\n",
       "      <td>234.000000</td>\n",
       "      <td>1.317145e+09</td>\n",
       "      <td>3.000000</td>\n",
       "      <td>39.973180</td>\n",
       "      <td>-79.412627</td>\n",
       "    </tr>\n",
       "    <tr>\n",
       "      <th>75%</th>\n",
       "      <td>0.000000</td>\n",
       "      <td>1.370647e+09</td>\n",
       "      <td>4239.750000</td>\n",
       "      <td>8.000000</td>\n",
       "      <td>1.000000</td>\n",
       "      <td>1.365226e+09</td>\n",
       "      <td>1.370215e+09</td>\n",
       "      <td>1.365450e+09</td>\n",
       "      <td>1.370052e+09</td>\n",
       "      <td>0.000000</td>\n",
       "      <td>...</td>\n",
       "      <td>14.000000</td>\n",
       "      <td>11.000000</td>\n",
       "      <td>60.000000</td>\n",
       "      <td>64.000000</td>\n",
       "      <td>1.000000</td>\n",
       "      <td>594.000000</td>\n",
       "      <td>1.346766e+09</td>\n",
       "      <td>3.000000</td>\n",
       "      <td>44.907403</td>\n",
       "      <td>-2.721408</td>\n",
       "    </tr>\n",
       "    <tr>\n",
       "      <th>max</th>\n",
       "      <td>1.000000</td>\n",
       "      <td>1.523488e+09</td>\n",
       "      <td>65535.000000</td>\n",
       "      <td>13.000000</td>\n",
       "      <td>3.000000</td>\n",
       "      <td>1.382012e+09</td>\n",
       "      <td>1.523056e+09</td>\n",
       "      <td>1.381608e+09</td>\n",
       "      <td>1.418850e+09</td>\n",
       "      <td>1.000000</td>\n",
       "      <td>...</td>\n",
       "      <td>88.000000</td>\n",
       "      <td>34.000000</td>\n",
       "      <td>848.000000</td>\n",
       "      <td>886.000000</td>\n",
       "      <td>1.000000</td>\n",
       "      <td>3794.000000</td>\n",
       "      <td>1.381543e+09</td>\n",
       "      <td>103.000000</td>\n",
       "      <td>64.844022</td>\n",
       "      <td>176.169492</td>\n",
       "    </tr>\n",
       "  </tbody>\n",
       "</table>\n",
       "<p>8 rows × 28 columns</p>\n",
       "</div>"
      ],
      "text/plain": [
       "             label  approx_payout_date   body_length     channels  \\\n",
       "count  9566.000000        9.566000e+03   9566.000000  9566.000000   \n",
       "mean      0.092724        1.350865e+09   3632.099101     6.175413   \n",
       "std       0.290061        2.406468e+07   5743.574469     3.871291   \n",
       "min       0.000000        1.173672e+09      0.000000     0.000000   \n",
       "25%       0.000000        1.334016e+09    737.250000     5.000000   \n",
       "50%       0.000000        1.355465e+09   1968.000000     6.000000   \n",
       "75%       0.000000        1.370647e+09   4239.750000     8.000000   \n",
       "max       1.000000        1.523488e+09  65535.000000    13.000000   \n",
       "\n",
       "       delivery_method  event_created     event_end  event_published  \\\n",
       "count      9557.000000   9.566000e+03  9.566000e+03     9.497000e+03   \n",
       "mean          0.435702   1.345710e+09  1.350433e+09     1.340641e+09   \n",
       "std           0.587983   2.404852e+07  2.406468e+07     8.820041e+07   \n",
       "min           0.000000   1.171223e+09  1.173244e+09     0.000000e+00   \n",
       "25%           0.000000   1.329428e+09  1.333584e+09     1.329324e+09   \n",
       "50%           0.000000   1.350775e+09  1.355033e+09     1.350929e+09   \n",
       "75%           1.000000   1.365226e+09  1.370215e+09     1.365450e+09   \n",
       "max           3.000000   1.382012e+09  1.523056e+09     1.381608e+09   \n",
       "\n",
       "        event_start  fb_published       ...         org_facebook  org_twitter  \\\n",
       "count  9.566000e+03   9566.000000       ...          9524.000000  9524.000000   \n",
       "mean   1.350126e+09      0.123667       ...             8.011340     4.325598   \n",
       "std    2.399002e+07      0.329219       ...            11.864087     6.025405   \n",
       "min    1.173238e+09      0.000000       ...             0.000000     0.000000   \n",
       "25%    1.333219e+09      0.000000       ...             0.000000     0.000000   \n",
       "50%    1.354812e+09      0.000000       ...             0.000000     0.000000   \n",
       "75%    1.370052e+09      0.000000       ...            14.000000    11.000000   \n",
       "max    1.418850e+09      1.000000       ...            88.000000    34.000000   \n",
       "\n",
       "       sale_duration  sale_duration2     show_map     user_age  user_created  \\\n",
       "count    9459.000000     9566.000000  9566.000000  9566.000000  9.566000e+03   \n",
       "mean       47.275082       50.986828     0.842777   368.516830  1.313870e+09   \n",
       "std        53.181035       58.027931     0.364030   414.431232  4.117064e+07   \n",
       "min      -143.000000      -28.000000     0.000000     0.000000  1.014390e+09   \n",
       "25%        16.000000       17.000000     1.000000    12.000000  1.287562e+09   \n",
       "50%        33.000000       35.000000     1.000000   234.000000  1.317145e+09   \n",
       "75%        60.000000       64.000000     1.000000   594.000000  1.346766e+09   \n",
       "max       848.000000      886.000000     1.000000  3794.000000  1.381543e+09   \n",
       "\n",
       "         user_type  venue_latitude  venue_longitude  \n",
       "count  9566.000000     8852.000000      8852.000000  \n",
       "mean      2.704265       34.981910       -58.524374  \n",
       "std       1.498435       20.625691        67.612621  \n",
       "min       1.000000      -45.045208      -159.390183  \n",
       "25%       1.000000       33.912730       -96.852044  \n",
       "50%       3.000000       39.973180       -79.412627  \n",
       "75%       3.000000       44.907403        -2.721408  \n",
       "max     103.000000       64.844022       176.169492  \n",
       "\n",
       "[8 rows x 28 columns]"
      ]
     },
     "execution_count": 18,
     "metadata": {},
     "output_type": "execute_result"
    }
   ],
   "source": [
    "import pandas as pd\n",
    "import matplotlib.pyplot as plt\n",
    "\n",
    "dataset = pd.read_csv('train_set.csv')\n",
    "\n",
    "dataset.describe()"
   ]
  },
  {
   "cell_type": "code",
   "execution_count": 8,
   "metadata": {},
   "outputs": [],
   "source": [
    "%matplotlib inline"
   ]
  },
  {
   "cell_type": "code",
   "execution_count": 9,
   "metadata": {},
   "outputs": [
    {
     "data": {
      "text/plain": [
       "<matplotlib.axes._subplots.AxesSubplot at 0x1a292c1b38>"
      ]
     },
     "execution_count": 9,
     "metadata": {},
     "output_type": "execute_result"
    },
    {
     "data": {
      "image/png": "[encoded data removed]",
      "text/plain": [
       "<Figure size 432x288 with 1 Axes>"
      ]
     },
     "metadata": {},
     "output_type": "display_data"
    }
   ],
   "source": [
    "n_age = dataset['user_age'].value_counts()\n",
    "n_age.nlargest(10).plot(kind='bar')"
   ]
  },
  {
   "cell_type": "code",
   "execution_count": 19,
   "metadata": {},
   "outputs": [
    {
     "ename": "KeyboardInterrupt",
     "evalue": "",
     "output_type": "error",
     "traceback": [
      "\u001b[0;31m---------------------------------------------------------------------------\u001b[0m",
      "\u001b[0;31mKeyboardInterrupt\u001b[0m                         Traceback (most recent call last)",
      "\u001b[0;32m<ipython-input-19-b3fc665960c3>\u001b[0m in \u001b[0;36m<module>\u001b[0;34m()\u001b[0m\n\u001b[1;32m      3\u001b[0m \u001b[0;31m#dataset['user_age'].describe()\u001b[0m\u001b[0;34m\u001b[0m\u001b[0;34m\u001b[0m\u001b[0m\n\u001b[1;32m      4\u001b[0m \u001b[0;34m\u001b[0m\u001b[0m\n\u001b[0;32m----> 5\u001b[0;31m \u001b[0mplt\u001b[0m\u001b[0;34m.\u001b[0m\u001b[0mhist\u001b[0m\u001b[0;34m(\u001b[0m\u001b[0mdata\u001b[0m\u001b[0;34m[\u001b[0m\u001b[0;34m'country'\u001b[0m\u001b[0;34m]\u001b[0m\u001b[0;34m)\u001b[0m\u001b[0;34m\u001b[0m\u001b[0m\n\u001b[0m",
      "\u001b[0;32m/anaconda3/envs/example-app/lib/python3.6/site-packages/matplotlib/pyplot.py\u001b[0m in \u001b[0;36mhist\u001b[0;34m(x, bins, range, density, weights, cumulative, bottom, histtype, align, orientation, rwidth, log, color, label, stacked, normed, hold, data, **kwargs)\u001b[0m\n\u001b[1;32m   3130\u001b[0m                       \u001b[0mhisttype\u001b[0m\u001b[0;34m=\u001b[0m\u001b[0mhisttype\u001b[0m\u001b[0;34m,\u001b[0m \u001b[0malign\u001b[0m\u001b[0;34m=\u001b[0m\u001b[0malign\u001b[0m\u001b[0;34m,\u001b[0m \u001b[0morientation\u001b[0m\u001b[0;34m=\u001b[0m\u001b[0morientation\u001b[0m\u001b[0;34m,\u001b[0m\u001b[0;34m\u001b[0m\u001b[0m\n\u001b[1;32m   3131\u001b[0m                       \u001b[0mrwidth\u001b[0m\u001b[0;34m=\u001b[0m\u001b[0mrwidth\u001b[0m\u001b[0;34m,\u001b[0m \u001b[0mlog\u001b[0m\u001b[0;34m=\u001b[0m\u001b[0mlog\u001b[0m\u001b[0;34m,\u001b[0m \u001b[0mcolor\u001b[0m\u001b[0;34m=\u001b[0m\u001b[0mcolor\u001b[0m\u001b[0;34m,\u001b[0m \u001b[0mlabel\u001b[0m\u001b[0;34m=\u001b[0m\u001b[0mlabel\u001b[0m\u001b[0;34m,\u001b[0m\u001b[0;34m\u001b[0m\u001b[0m\n\u001b[0;32m-> 3132\u001b[0;31m                       stacked=stacked, normed=normed, data=data, **kwargs)\n\u001b[0m\u001b[1;32m   3133\u001b[0m     \u001b[0;32mfinally\u001b[0m\u001b[0;34m:\u001b[0m\u001b[0;34m\u001b[0m\u001b[0m\n\u001b[1;32m   3134\u001b[0m         \u001b[0max\u001b[0m\u001b[0;34m.\u001b[0m\u001b[0m_hold\u001b[0m \u001b[0;34m=\u001b[0m \u001b[0mwashold\u001b[0m\u001b[0;34m\u001b[0m\u001b[0m\n",
      "\u001b[0;32m/anaconda3/envs/example-app/lib/python3.6/site-packages/matplotlib/__init__.py\u001b[0m in \u001b[0;36minner\u001b[0;34m(ax, *args, **kwargs)\u001b[0m\n\u001b[1;32m   1853\u001b[0m                         \u001b[0;34m\"the Matplotlib list!)\"\u001b[0m \u001b[0;34m%\u001b[0m \u001b[0;34m(\u001b[0m\u001b[0mlabel_namer\u001b[0m\u001b[0;34m,\u001b[0m \u001b[0mfunc\u001b[0m\u001b[0;34m.\u001b[0m\u001b[0m__name__\u001b[0m\u001b[0;34m)\u001b[0m\u001b[0;34m,\u001b[0m\u001b[0;34m\u001b[0m\u001b[0m\n\u001b[1;32m   1854\u001b[0m                         RuntimeWarning, stacklevel=2)\n\u001b[0;32m-> 1855\u001b[0;31m             \u001b[0;32mreturn\u001b[0m \u001b[0mfunc\u001b[0m\u001b[0;34m(\u001b[0m\u001b[0max\u001b[0m\u001b[0;34m,\u001b[0m \u001b[0;34m*\u001b[0m\u001b[0margs\u001b[0m\u001b[0;34m,\u001b[0m \u001b[0;34m**\u001b[0m\u001b[0mkwargs\u001b[0m\u001b[0;34m)\u001b[0m\u001b[0;34m\u001b[0m\u001b[0m\n\u001b[0m\u001b[1;32m   1856\u001b[0m \u001b[0;34m\u001b[0m\u001b[0m\n\u001b[1;32m   1857\u001b[0m         inner.__doc__ = _add_data_doc(inner.__doc__,\n",
      "\u001b[0;32m/anaconda3/envs/example-app/lib/python3.6/site-packages/matplotlib/axes/_axes.py\u001b[0m in \u001b[0;36mhist\u001b[0;34m(***failed resolving arguments***)\u001b[0m\n\u001b[1;32m   6604\u001b[0m                 patch = _barfunc(bins[:-1]+boffset, height, width,\n\u001b[1;32m   6605\u001b[0m                                  \u001b[0malign\u001b[0m\u001b[0;34m=\u001b[0m\u001b[0;34m'center'\u001b[0m\u001b[0;34m,\u001b[0m \u001b[0mlog\u001b[0m\u001b[0;34m=\u001b[0m\u001b[0mlog\u001b[0m\u001b[0;34m,\u001b[0m\u001b[0;34m\u001b[0m\u001b[0m\n\u001b[0;32m-> 6606\u001b[0;31m                                  color=c, **{bottom_kwarg: bottom})\n\u001b[0m\u001b[1;32m   6607\u001b[0m                 \u001b[0mpatches\u001b[0m\u001b[0;34m.\u001b[0m\u001b[0mappend\u001b[0m\u001b[0;34m(\u001b[0m\u001b[0mpatch\u001b[0m\u001b[0;34m)\u001b[0m\u001b[0;34m\u001b[0m\u001b[0m\n\u001b[1;32m   6608\u001b[0m                 \u001b[0;32mif\u001b[0m \u001b[0mstacked\u001b[0m\u001b[0;34m:\u001b[0m\u001b[0;34m\u001b[0m\u001b[0m\n",
      "\u001b[0;32m/anaconda3/envs/example-app/lib/python3.6/site-packages/matplotlib/__init__.py\u001b[0m in \u001b[0;36minner\u001b[0;34m(ax, *args, **kwargs)\u001b[0m\n\u001b[1;32m   1853\u001b[0m                         \u001b[0;34m\"the Matplotlib list!)\"\u001b[0m \u001b[0;34m%\u001b[0m \u001b[0;34m(\u001b[0m\u001b[0mlabel_namer\u001b[0m\u001b[0;34m,\u001b[0m \u001b[0mfunc\u001b[0m\u001b[0;34m.\u001b[0m\u001b[0m__name__\u001b[0m\u001b[0;34m)\u001b[0m\u001b[0;34m,\u001b[0m\u001b[0;34m\u001b[0m\u001b[0m\n\u001b[1;32m   1854\u001b[0m                         RuntimeWarning, stacklevel=2)\n\u001b[0;32m-> 1855\u001b[0;31m             \u001b[0;32mreturn\u001b[0m \u001b[0mfunc\u001b[0m\u001b[0;34m(\u001b[0m\u001b[0max\u001b[0m\u001b[0;34m,\u001b[0m \u001b[0;34m*\u001b[0m\u001b[0margs\u001b[0m\u001b[0;34m,\u001b[0m \u001b[0;34m**\u001b[0m\u001b[0mkwargs\u001b[0m\u001b[0;34m)\u001b[0m\u001b[0;34m\u001b[0m\u001b[0m\n\u001b[0m\u001b[1;32m   1856\u001b[0m \u001b[0;34m\u001b[0m\u001b[0m\n\u001b[1;32m   1857\u001b[0m         inner.__doc__ = _add_data_doc(inner.__doc__,\n",
      "\u001b[0;32m/anaconda3/envs/example-app/lib/python3.6/site-packages/matplotlib/axes/_axes.py\u001b[0m in \u001b[0;36mbar\u001b[0;34m(self, *args, **kwargs)\u001b[0m\n\u001b[1;32m   2326\u001b[0m             \u001b[0mymin\u001b[0m \u001b[0;34m=\u001b[0m \u001b[0mmax\u001b[0m\u001b[0;34m(\u001b[0m\u001b[0mymin\u001b[0m \u001b[0;34m*\u001b[0m \u001b[0;36m0.9\u001b[0m\u001b[0;34m,\u001b[0m \u001b[0;36m1e-100\u001b[0m\u001b[0;34m)\u001b[0m\u001b[0;34m\u001b[0m\u001b[0m\n\u001b[1;32m   2327\u001b[0m             \u001b[0mself\u001b[0m\u001b[0;34m.\u001b[0m\u001b[0mdataLim\u001b[0m\u001b[0;34m.\u001b[0m\u001b[0mintervaly\u001b[0m \u001b[0;34m=\u001b[0m \u001b[0;34m(\u001b[0m\u001b[0mymin\u001b[0m\u001b[0;34m,\u001b[0m \u001b[0mymax\u001b[0m\u001b[0;34m)\u001b[0m\u001b[0;34m\u001b[0m\u001b[0m\n\u001b[0;32m-> 2328\u001b[0;31m         \u001b[0mself\u001b[0m\u001b[0;34m.\u001b[0m\u001b[0mautoscale_view\u001b[0m\u001b[0;34m(\u001b[0m\u001b[0;34m)\u001b[0m\u001b[0;34m\u001b[0m\u001b[0m\n\u001b[0m\u001b[1;32m   2329\u001b[0m \u001b[0;34m\u001b[0m\u001b[0m\n\u001b[1;32m   2330\u001b[0m         \u001b[0mbar_container\u001b[0m \u001b[0;34m=\u001b[0m \u001b[0mBarContainer\u001b[0m\u001b[0;34m(\u001b[0m\u001b[0mpatches\u001b[0m\u001b[0;34m,\u001b[0m \u001b[0merrorbar\u001b[0m\u001b[0;34m,\u001b[0m \u001b[0mlabel\u001b[0m\u001b[0;34m=\u001b[0m\u001b[0mlabel\u001b[0m\u001b[0;34m)\u001b[0m\u001b[0;34m\u001b[0m\u001b[0m\n",
      "\u001b[0;32m/anaconda3/envs/example-app/lib/python3.6/site-packages/matplotlib/axes/_base.py\u001b[0m in \u001b[0;36mautoscale_view\u001b[0;34m(self, tight, scalex, scaley)\u001b[0m\n\u001b[1;32m   2448\u001b[0m             \u001b[0mstickies\u001b[0m \u001b[0;34m=\u001b[0m \u001b[0;34m[\u001b[0m\u001b[0martist\u001b[0m\u001b[0;34m.\u001b[0m\u001b[0msticky_edges\u001b[0m \u001b[0;32mfor\u001b[0m \u001b[0martist\u001b[0m \u001b[0;32min\u001b[0m \u001b[0mself\u001b[0m\u001b[0;34m.\u001b[0m\u001b[0mget_children\u001b[0m\u001b[0;34m(\u001b[0m\u001b[0;34m)\u001b[0m\u001b[0;34m]\u001b[0m\u001b[0;34m\u001b[0m\u001b[0m\n\u001b[1;32m   2449\u001b[0m             \u001b[0mx_stickies\u001b[0m \u001b[0;34m=\u001b[0m \u001b[0msum\u001b[0m\u001b[0;34m(\u001b[0m\u001b[0;34m[\u001b[0m\u001b[0msticky\u001b[0m\u001b[0;34m.\u001b[0m\u001b[0mx\u001b[0m \u001b[0;32mfor\u001b[0m \u001b[0msticky\u001b[0m \u001b[0;32min\u001b[0m \u001b[0mstickies\u001b[0m\u001b[0;34m]\u001b[0m\u001b[0;34m,\u001b[0m \u001b[0;34m[\u001b[0m\u001b[0;34m]\u001b[0m\u001b[0;34m)\u001b[0m\u001b[0;34m\u001b[0m\u001b[0m\n\u001b[0;32m-> 2450\u001b[0;31m             \u001b[0my_stickies\u001b[0m \u001b[0;34m=\u001b[0m \u001b[0msum\u001b[0m\u001b[0;34m(\u001b[0m\u001b[0;34m[\u001b[0m\u001b[0msticky\u001b[0m\u001b[0;34m.\u001b[0m\u001b[0my\u001b[0m \u001b[0;32mfor\u001b[0m \u001b[0msticky\u001b[0m \u001b[0;32min\u001b[0m \u001b[0mstickies\u001b[0m\u001b[0;34m]\u001b[0m\u001b[0;34m,\u001b[0m \u001b[0;34m[\u001b[0m\u001b[0;34m]\u001b[0m\u001b[0;34m)\u001b[0m\u001b[0;34m\u001b[0m\u001b[0m\n\u001b[0m\u001b[1;32m   2451\u001b[0m             \u001b[0;32mif\u001b[0m \u001b[0mself\u001b[0m\u001b[0;34m.\u001b[0m\u001b[0mget_xscale\u001b[0m\u001b[0;34m(\u001b[0m\u001b[0;34m)\u001b[0m\u001b[0;34m.\u001b[0m\u001b[0mlower\u001b[0m\u001b[0;34m(\u001b[0m\u001b[0;34m)\u001b[0m \u001b[0;34m==\u001b[0m \u001b[0;34m'log'\u001b[0m\u001b[0;34m:\u001b[0m\u001b[0;34m\u001b[0m\u001b[0m\n\u001b[1;32m   2452\u001b[0m                 \u001b[0mx_stickies\u001b[0m \u001b[0;34m=\u001b[0m \u001b[0;34m[\u001b[0m\u001b[0mxs\u001b[0m \u001b[0;32mfor\u001b[0m \u001b[0mxs\u001b[0m \u001b[0;32min\u001b[0m \u001b[0mx_stickies\u001b[0m \u001b[0;32mif\u001b[0m \u001b[0mxs\u001b[0m \u001b[0;34m>\u001b[0m \u001b[0;36m0\u001b[0m\u001b[0;34m]\u001b[0m\u001b[0;34m\u001b[0m\u001b[0m\n",
      "\u001b[0;31mKeyboardInterrupt\u001b[0m: "
     ]
    },
    {
     "data": {
      "image/png": "[encoded data removed]",
      "text/plain": [
       "<Figure size 432x288 with 1 Axes>"
      ]
     },
     "metadata": {},
     "output_type": "display_data"
    }
   ],
   "source": [
    "import seaborn as sns\n",
    "\n",
    "#dataset['user_age'].describe()\n",
    "\n",
    "plt.hist(data['country'])"
   ]
  },
  {
   "cell_type": "code",
   "execution_count": 33,
   "metadata": {},
   "outputs": [],
   "source": [
    "import numpy as np\n",
    "from sklearn.model_selection import train_test_split\n",
    "from imblearn.under_sampling import RandomUnderSampler"
   ]
  },
  {
   "cell_type": "code",
   "execution_count": 50,
   "metadata": {},
   "outputs": [],
   "source": [
    "X = dataset.copy()\n",
    "X_small = X[['label', 'country', 'channels']]\n",
    "X_small2 = X[['label', 'channels']]\n",
    "y2 = X_small2.pop('label')\n",
    "\n",
    "rus=RandomUnderSampler(random_state=0)\n",
    "\n",
    "X_dumm = pd.get_dummies(X_small)\n",
    "X_res, y_res = rus.fit_sample(X_small2, y2)"
   ]
  },
  {
   "cell_type": "code",
   "execution_count": 71,
   "metadata": {},
   "outputs": [
    {
     "data": {
      "text/plain": [
       "array([[ 8],\n",
       "       [ 0],\n",
       "       [ 0],\n",
       "       [ 5],\n",
       "       [11],\n",
       "       [ 0],\n",
       "       [ 0],\n",
       "       [ 0],\n",
       "       [11],\n",
       "       [ 8],\n",
       "       [ 5],\n",
       "       [13],\n",
       "       [ 0],\n",
       "       [ 0],\n",
       "       [ 0],\n",
       "       [ 5],\n",
       "       [ 5],\n",
       "       [ 6],\n",
       "       [ 0],\n",
       "       [ 0],\n",
       "       [ 6],\n",
       "       [ 5],\n",
       "       [ 5],\n",
       "       [11],\n",
       "       [11],\n",
       "       [11],\n",
       "       [ 6],\n",
       "       [ 6],\n",
       "       [11],\n",
       "       [ 0],\n",
       "       [11],\n",
       "       [11],\n",
       "       [ 0],\n",
       "       [ 8],\n",
       "       [ 0],\n",
       "       [ 8],\n",
       "       [ 0],\n",
       "       [11],\n",
       "       [13],\n",
       "       [ 0],\n",
       "       [ 8],\n",
       "       [ 6],\n",
       "       [ 8],\n",
       "       [ 5],\n",
       "       [ 0],\n",
       "       [ 6],\n",
       "       [ 4],\n",
       "       [ 8],\n",
       "       [ 0],\n",
       "       [ 8],\n",
       "       [ 8],\n",
       "       [ 8],\n",
       "       [ 0],\n",
       "       [11],\n",
       "       [13],\n",
       "       [ 8],\n",
       "       [ 0],\n",
       "       [ 5],\n",
       "       [ 0],\n",
       "       [ 8],\n",
       "       [ 0],\n",
       "       [ 5],\n",
       "       [ 0],\n",
       "       [ 8],\n",
       "       [ 8],\n",
       "       [ 0],\n",
       "       [ 8],\n",
       "       [11],\n",
       "       [ 0],\n",
       "       [ 6],\n",
       "       [11],\n",
       "       [ 0],\n",
       "       [11],\n",
       "       [11],\n",
       "       [ 5],\n",
       "       [11],\n",
       "       [ 5],\n",
       "       [ 6],\n",
       "       [ 6],\n",
       "       [ 6],\n",
       "       [ 6],\n",
       "       [ 0],\n",
       "       [ 6],\n",
       "       [ 0],\n",
       "       [ 0],\n",
       "       [ 0],\n",
       "       [ 8],\n",
       "       [ 8],\n",
       "       [11],\n",
       "       [ 0],\n",
       "       [ 6],\n",
       "       [ 5],\n",
       "       [ 0],\n",
       "       [ 0],\n",
       "       [ 8],\n",
       "       [ 5],\n",
       "       [ 6],\n",
       "       [ 0],\n",
       "       [ 6],\n",
       "       [ 0],\n",
       "       [ 0],\n",
       "       [ 5],\n",
       "       [ 0],\n",
       "       [ 0],\n",
       "       [ 5],\n",
       "       [ 0],\n",
       "       [ 0],\n",
       "       [11],\n",
       "       [11],\n",
       "       [ 0],\n",
       "       [ 0],\n",
       "       [ 5],\n",
       "       [ 0],\n",
       "       [ 0],\n",
       "       [13],\n",
       "       [11],\n",
       "       [ 4],\n",
       "       [11],\n",
       "       [ 8],\n",
       "       [ 0],\n",
       "       [ 5],\n",
       "       [ 6],\n",
       "       [ 6],\n",
       "       [ 8],\n",
       "       [ 5],\n",
       "       [ 8],\n",
       "       [ 0],\n",
       "       [11],\n",
       "       [ 0],\n",
       "       [ 6],\n",
       "       [ 0],\n",
       "       [ 0],\n",
       "       [ 6],\n",
       "       [11],\n",
       "       [11],\n",
       "       [ 0],\n",
       "       [11],\n",
       "       [ 0],\n",
       "       [ 8],\n",
       "       [11],\n",
       "       [10],\n",
       "       [ 8],\n",
       "       [ 5],\n",
       "       [11],\n",
       "       [ 0],\n",
       "       [ 8],\n",
       "       [ 5],\n",
       "       [10],\n",
       "       [ 0],\n",
       "       [ 7],\n",
       "       [11],\n",
       "       [ 0],\n",
       "       [ 8],\n",
       "       [ 5],\n",
       "       [ 0],\n",
       "       [ 6],\n",
       "       [ 0],\n",
       "       [ 8],\n",
       "       [ 8],\n",
       "       [11],\n",
       "       [ 5],\n",
       "       [ 6],\n",
       "       [ 6],\n",
       "       [ 8],\n",
       "       [11],\n",
       "       [ 5],\n",
       "       [ 0],\n",
       "       [ 5],\n",
       "       [ 5],\n",
       "       [11],\n",
       "       [ 8],\n",
       "       [11],\n",
       "       [ 6],\n",
       "       [ 0],\n",
       "       [ 0],\n",
       "       [12],\n",
       "       [11],\n",
       "       [11],\n",
       "       [ 8],\n",
       "       [ 5],\n",
       "       [ 5],\n",
       "       [11],\n",
       "       [11],\n",
       "       [ 8],\n",
       "       [ 8],\n",
       "       [ 0],\n",
       "       [11],\n",
       "       [ 0],\n",
       "       [11],\n",
       "       [ 8],\n",
       "       [13],\n",
       "       [ 6],\n",
       "       [ 5],\n",
       "       [ 8],\n",
       "       [ 8],\n",
       "       [ 6],\n",
       "       [12],\n",
       "       [11],\n",
       "       [ 5],\n",
       "       [ 0],\n",
       "       [ 8],\n",
       "       [ 5],\n",
       "       [ 8],\n",
       "       [ 0],\n",
       "       [11],\n",
       "       [ 8],\n",
       "       [ 0],\n",
       "       [ 5],\n",
       "       [ 0],\n",
       "       [ 0],\n",
       "       [11],\n",
       "       [ 0],\n",
       "       [ 4],\n",
       "       [ 5],\n",
       "       [11],\n",
       "       [ 5],\n",
       "       [11],\n",
       "       [ 5],\n",
       "       [ 7],\n",
       "       [ 6],\n",
       "       [ 5],\n",
       "       [ 8],\n",
       "       [ 6],\n",
       "       [ 0],\n",
       "       [11],\n",
       "       [ 5],\n",
       "       [ 0],\n",
       "       [ 6],\n",
       "       [11],\n",
       "       [ 4],\n",
       "       [ 6],\n",
       "       [ 8],\n",
       "       [ 0],\n",
       "       [ 0],\n",
       "       [ 6],\n",
       "       [ 6],\n",
       "       [11],\n",
       "       [ 5],\n",
       "       [10],\n",
       "       [ 0],\n",
       "       [ 5],\n",
       "       [ 0],\n",
       "       [ 5],\n",
       "       [11],\n",
       "       [ 5],\n",
       "       [ 5],\n",
       "       [ 8],\n",
       "       [13],\n",
       "       [13],\n",
       "       [ 8],\n",
       "       [ 8],\n",
       "       [11],\n",
       "       [ 0],\n",
       "       [11],\n",
       "       [ 6],\n",
       "       [ 5],\n",
       "       [11],\n",
       "       [ 6],\n",
       "       [ 8],\n",
       "       [ 8],\n",
       "       [11],\n",
       "       [ 0],\n",
       "       [ 5],\n",
       "       [11],\n",
       "       [ 6],\n",
       "       [ 5],\n",
       "       [ 5],\n",
       "       [12],\n",
       "       [ 8],\n",
       "       [ 0],\n",
       "       [ 0],\n",
       "       [11],\n",
       "       [ 6],\n",
       "       [ 8],\n",
       "       [ 0],\n",
       "       [11],\n",
       "       [ 5],\n",
       "       [ 8],\n",
       "       [11],\n",
       "       [ 6],\n",
       "       [ 5],\n",
       "       [ 0],\n",
       "       [ 5],\n",
       "       [11],\n",
       "       [ 0],\n",
       "       [ 5],\n",
       "       [ 6],\n",
       "       [ 0],\n",
       "       [ 8],\n",
       "       [ 8],\n",
       "       [11],\n",
       "       [ 0],\n",
       "       [ 8],\n",
       "       [13],\n",
       "       [ 8],\n",
       "       [11],\n",
       "       [ 0],\n",
       "       [ 0],\n",
       "       [ 0],\n",
       "       [ 0],\n",
       "       [ 5],\n",
       "       [11],\n",
       "       [ 5],\n",
       "       [11],\n",
       "       [ 6],\n",
       "       [ 5],\n",
       "       [ 8],\n",
       "       [ 0],\n",
       "       [ 0],\n",
       "       [ 8],\n",
       "       [ 0],\n",
       "       [ 8],\n",
       "       [ 0],\n",
       "       [ 0],\n",
       "       [ 8],\n",
       "       [ 0],\n",
       "       [ 8],\n",
       "       [ 8],\n",
       "       [ 0],\n",
       "       [ 0],\n",
       "       [ 6],\n",
       "       [ 0],\n",
       "       [ 6],\n",
       "       [10],\n",
       "       [ 5],\n",
       "       [13],\n",
       "       [ 8],\n",
       "       [ 0],\n",
       "       [ 6],\n",
       "       [ 0],\n",
       "       [ 0],\n",
       "       [ 6],\n",
       "       [ 0],\n",
       "       [ 6],\n",
       "       [ 8],\n",
       "       [ 0],\n",
       "       [ 8],\n",
       "       [ 5],\n",
       "       [ 5],\n",
       "       [11],\n",
       "       [ 8],\n",
       "       [ 8],\n",
       "       [ 5],\n",
       "       [11],\n",
       "       [ 6],\n",
       "       [ 8],\n",
       "       [11],\n",
       "       [ 0],\n",
       "       [ 8],\n",
       "       [ 5],\n",
       "       [ 6],\n",
       "       [11],\n",
       "       [11],\n",
       "       [ 0],\n",
       "       [ 8]])"
      ]
     },
     "execution_count": 71,
     "metadata": {},
     "output_type": "execute_result"
    }
   ],
   "source": [
    "X_train, X_test, y_train, y_test = train_test_split(X_res, y_res, test_size=0.2)\n",
    "type(X_test)\n",
    "X_test"
   ]
  },
  {
   "cell_type": "code",
   "execution_count": 52,
   "metadata": {},
   "outputs": [
    {
     "name": "stdout",
     "output_type": "stream",
     "text": [
      "[[0.48347184 0.51652816]\n",
      " [0.52031992 0.47968008]\n",
      " [0.69394559 0.30605441]\n",
      " ...\n",
      " [0.69394559 0.30605441]\n",
      " [0.72433984 0.27566016]\n",
      " [0.59296759 0.40703241]]\n"
     ]
    }
   ],
   "source": [
    "from sklearn.model_selection import cross_val_score\n",
    "from sklearn.linear_model import LogisticRegression\n",
    "\n",
    "log_reg = LogisticRegression(penalty='l2')\n",
    "log_reg.fit(X_train, y_train)\n",
    "y_pred = log_reg.predict(X_train)\n",
    "y_proba = log_reg.predict_proba(X_train)\n",
    "print(y_proba)\n",
    "\n"
   ]
  },
  {
   "cell_type": "code",
   "execution_count": 53,
   "metadata": {},
   "outputs": [
    {
     "name": "stdout",
     "output_type": "stream",
     "text": [
      "score: 0.6356589147286822\n"
     ]
    }
   ],
   "source": [
    "score = log_reg.score(X_train, y_train)\n",
    "print('score: {}'.format(score))"
   ]
  },
  {
   "cell_type": "code",
   "execution_count": 54,
   "metadata": {},
   "outputs": [
    {
     "data": {
      "text/plain": [
       "['Model1.pkl']"
      ]
     },
     "execution_count": 54,
     "metadata": {},
     "output_type": "execute_result"
    }
   ],
   "source": [
    "from sklearn.externals import joblib\n",
    "joblib.dump(log_reg, 'Model1.pkl')"
   ]
  },
  {
   "cell_type": "code",
   "execution_count": 43,
   "metadata": {},
   "outputs": [
    {
     "data": {
      "text/plain": [
       "array([[ 8,  0,  0, ...,  0,  0,  0],\n",
       "       [ 8,  0,  0, ...,  0,  0,  0],\n",
       "       [ 0,  1,  0, ...,  0,  0,  0],\n",
       "       ...,\n",
       "       [ 0,  0,  0, ...,  0,  0,  0],\n",
       "       [10,  0,  0, ...,  0,  0,  0],\n",
       "       [ 0,  0,  0, ...,  0,  0,  0]])"
      ]
     },
     "execution_count": 43,
     "metadata": {},
     "output_type": "execute_result"
    }
   ],
   "source": [
    "X_train"
   ]
  },
  {
   "cell_type": "code",
   "execution_count": 56,
   "metadata": {},
   "outputs": [],
   "source": [
    "import json\n",
    "\n",
    "with open('example_request_data.json') as f:\n",
    "    example_params = json.load(f)"
   ]
  },
  {
   "cell_type": "code",
   "execution_count": 62,
   "metadata": {},
   "outputs": [],
   "source": [
    "string_cols = ['sample_uuid']\n",
    "int_cols = ['channels']\n",
    "\n",
    "test = dict((k, example_params[k]) for k in ('sample_uuid', 'channels'))"
   ]
  },
  {
   "cell_type": "code",
   "execution_count": 63,
   "metadata": {},
   "outputs": [
    {
     "data": {
      "text/plain": [
       "{'channels': 11, 'sample_uuid': '78253fcf-4f53-4c53-8c02-e8917f47bb75'}"
      ]
     },
     "execution_count": 63,
     "metadata": {},
     "output_type": "execute_result"
    }
   ],
   "source": [
    "test"
   ]
  },
  {
   "cell_type": "code",
   "execution_count": 67,
   "metadata": {},
   "outputs": [],
   "source": [
    "model_input = pd.DataFrame(test, index=[0])"
   ]
  },
  {
   "cell_type": "code",
   "execution_count": 68,
   "metadata": {},
   "outputs": [
    {
     "data": {
      "text/html": [
       "<div>\n",
       "<style scoped>\n",
       "    .dataframe tbody tr th:only-of-type {\n",
       "        vertical-align: middle;\n",
       "    }\n",
       "\n",
       "    .dataframe tbody tr th {\n",
       "        vertical-align: top;\n",
       "    }\n",
       "\n",
       "    .dataframe thead th {\n",
       "        text-align: right;\n",
       "    }\n",
       "</style>\n",
       "<table border=\"1\" class=\"dataframe\">\n",
       "  <thead>\n",
       "    <tr style=\"text-align: right;\">\n",
       "      <th></th>\n",
       "      <th>channels</th>\n",
       "      <th>sample_uuid</th>\n",
       "    </tr>\n",
       "  </thead>\n",
       "  <tbody>\n",
       "    <tr>\n",
       "      <th>0</th>\n",
       "      <td>11</td>\n",
       "      <td>78253fcf-4f53-4c53-8c02-e8917f47bb75</td>\n",
       "    </tr>\n",
       "  </tbody>\n",
       "</table>\n",
       "</div>"
      ],
      "text/plain": [
       "   channels                           sample_uuid\n",
       "0        11  78253fcf-4f53-4c53-8c02-e8917f47bb75"
      ]
     },
     "execution_count": 68,
     "metadata": {},
     "output_type": "execute_result"
    }
   ],
   "source": [
    "model_input"
   ]
  },
  {
   "cell_type": "code",
   "execution_count": 75,
   "metadata": {},
   "outputs": [],
   "source": [
    "test2 = model_input[['channels']]"
   ]
  },
  {
   "cell_type": "code",
   "execution_count": 78,
   "metadata": {},
   "outputs": [
    {
     "data": {
      "text/html": [
       "<div>\n",
       "<style scoped>\n",
       "    .dataframe tbody tr th:only-of-type {\n",
       "        vertical-align: middle;\n",
       "    }\n",
       "\n",
       "    .dataframe tbody tr th {\n",
       "        vertical-align: top;\n",
       "    }\n",
       "\n",
       "    .dataframe thead th {\n",
       "        text-align: right;\n",
       "    }\n",
       "</style>\n",
       "<table border=\"1\" class=\"dataframe\">\n",
       "  <thead>\n",
       "    <tr style=\"text-align: right;\">\n",
       "      <th></th>\n",
       "      <th>channels</th>\n",
       "    </tr>\n",
       "  </thead>\n",
       "  <tbody>\n",
       "    <tr>\n",
       "      <th>0</th>\n",
       "      <td>11</td>\n",
       "    </tr>\n",
       "  </tbody>\n",
       "</table>\n",
       "</div>"
      ],
      "text/plain": [
       "   channels\n",
       "0        11"
      ]
     },
     "execution_count": 78,
     "metadata": {},
     "output_type": "execute_result"
    }
   ],
   "source": [
    "test2"
   ]
  },
  {
   "cell_type": "code",
   "execution_count": 83,
   "metadata": {
    "scrolled": true
   },
   "outputs": [
    {
     "data": {
      "text/plain": [
       "0.0"
      ]
     },
     "execution_count": 83,
     "metadata": {},
     "output_type": "execute_result"
    }
   ],
   "source": [
    "log_reg.predict(test2)[0]"
   ]
  },
  {
   "cell_type": "code",
   "execution_count": 85,
   "metadata": {
    "scrolled": true
   },
   "outputs": [
    {
     "data": {
      "text/plain": [
       "0.6939455870800667"
      ]
     },
     "execution_count": 85,
     "metadata": {},
     "output_type": "execute_result"
    }
   ],
   "source": [
    "log_reg.predict_proba(test2)[0][0]"
   ]
  },
  {
   "cell_type": "code",
   "execution_count": 81,
   "metadata": {},
   "outputs": [
    {
     "data": {
      "text/plain": [
       "array([[ 6],\n",
       "       [ 5],\n",
       "       [11],\n",
       "       ...,\n",
       "       [ 0],\n",
       "       [11],\n",
       "       [ 0]])"
      ]
     },
     "execution_count": 81,
     "metadata": {},
     "output_type": "execute_result"
    }
   ],
   "source": [
    "X_train"
   ]
  },
  {
   "cell_type": "code",
   "execution_count": 77,
   "metadata": {},
   "outputs": [
    {
     "data": {
      "text/plain": [
       "array([[0.69394559, 0.30605441]])"
      ]
     },
     "execution_count": 77,
     "metadata": {},
     "output_type": "execute_result"
    }
   ],
   "source": [
    "log_reg.predict_proba(test2)"
   ]
  },
  {
   "cell_type": "code",
   "execution_count": null,
   "metadata": {},
   "outputs": [],
   "source": []
  }
 ],
 "metadata": {
  "kernelspec": {
   "display_name": "Python [conda env:example-app]",
   "language": "python",
   "name": "conda-env-example-app-py"
  },
  "language_info": {
   "codemirror_mode": {
    "name": "ipython",
    "version": 3
   },
   "file_extension": ".py",
   "mimetype": "text/x-python",
   "name": "python",
   "nbconvert_exporter": "python",
   "pygments_lexer": "ipython3",
   "version": "3.6.4"
  }
 },
 "nbformat": 4,
 "nbformat_minor": 2
}
